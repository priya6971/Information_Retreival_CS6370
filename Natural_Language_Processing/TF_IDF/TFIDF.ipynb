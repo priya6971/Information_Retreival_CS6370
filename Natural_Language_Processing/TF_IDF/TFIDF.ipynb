{
 "cells": [
  {
   "cell_type": "code",
   "execution_count": 1,
   "metadata": {},
   "outputs": [],
   "source": [
    "import nltk"
   ]
  },
  {
   "cell_type": "code",
   "execution_count": 2,
   "metadata": {},
   "outputs": [],
   "source": [
    "paragraph = \"\"\"Kalam earned a degree in aeronautical engineering from the Madras Institute of Technology and in 1958 joined the Defence Research and Development Organisation (DRDO). He soon moved to the Indian Space Research Organisation, where he was project director of the SLV-III, India’s first indigenously designed and produced satellite launch vehicle. Rejoining DRDO in 1982, Kalam planned the program that produced a number of successful missiles, which helped earned him the nickname “Missile Man.”\"\"\""
   ]
  },
  {
   "cell_type": "code",
   "execution_count": 3,
   "metadata": {},
   "outputs": [],
   "source": [
    "#Cleaning of texts\n",
    "import re\n",
    "from nltk.corpus import stopwords\n",
    "from nltk.stem import WordNetLemmatizer"
   ]
  },
  {
   "cell_type": "code",
   "execution_count": 4,
   "metadata": {},
   "outputs": [],
   "source": [
    "lemmatizer = WordNetLemmatizer()\n",
    "sentences = nltk.sent_tokenize(paragraph)\n",
    "corpus = []"
   ]
  },
  {
   "cell_type": "code",
   "execution_count": 5,
   "metadata": {},
   "outputs": [],
   "source": [
    "for i in range(len(sentences)):\n",
    "    review = re.sub('[^a-zA-Z]',' ',sentences[i])\n",
    "    review = review.lower()\n",
    "    review = review.split()\n",
    "    review = [lemmatizer.lemmatize(word) for word in review if not word in set(stopwords.words('english'))]\n",
    "    review = ' '.join(review)\n",
    "    corpus.append(review)"
   ]
  },
  {
   "cell_type": "code",
   "execution_count": 6,
   "metadata": {},
   "outputs": [],
   "source": [
    "#Creating TF-IDF Model\n",
    "from sklearn.feature_extraction.text import TfidfVectorizer\n",
    "cv = TfidfVectorizer()\n",
    "X = cv.fit_transform(corpus).toarray()"
   ]
  },
  {
   "cell_type": "code",
   "execution_count": 7,
   "metadata": {},
   "outputs": [
    {
     "name": "stdout",
     "output_type": "stream",
     "text": [
      "[[0.28998304 0.28998304 0.28998304 0.         0.28998304 0.\n",
      "  0.22053958 0.22053958 0.28998304 0.         0.         0.\n",
      "  0.         0.         0.         0.28998304 0.28998304 0.22053958\n",
      "  0.         0.28998304 0.         0.         0.         0.\n",
      "  0.         0.22053958 0.         0.         0.         0.\n",
      "  0.         0.22053958 0.         0.         0.         0.\n",
      "  0.         0.28998304 0.        ]\n",
      " [0.         0.         0.         0.24444692 0.         0.24444692\n",
      "  0.         0.         0.         0.24444692 0.         0.24444692\n",
      "  0.24444692 0.24444692 0.24444692 0.         0.         0.\n",
      "  0.24444692 0.         0.         0.         0.24444692 0.\n",
      "  0.         0.18590818 0.         0.18590818 0.         0.24444692\n",
      "  0.         0.18590818 0.24444692 0.24444692 0.24444692 0.24444692\n",
      "  0.         0.         0.24444692]\n",
      " [0.         0.         0.         0.         0.         0.\n",
      "  0.20102012 0.20102012 0.         0.         0.2643173  0.\n",
      "  0.         0.         0.         0.         0.         0.20102012\n",
      "  0.         0.         0.2643173  0.52863461 0.         0.2643173\n",
      "  0.2643173  0.         0.2643173  0.20102012 0.2643173  0.\n",
      "  0.2643173  0.         0.         0.         0.         0.\n",
      "  0.2643173  0.         0.        ]]\n"
     ]
    }
   ],
   "source": [
    "print(X)"
   ]
  },
  {
   "cell_type": "code",
   "execution_count": null,
   "metadata": {},
   "outputs": [],
   "source": []
  }
 ],
 "metadata": {
  "kernelspec": {
   "display_name": "Python 3",
   "language": "python",
   "name": "python3"
  },
  "language_info": {
   "codemirror_mode": {
    "name": "ipython",
    "version": 3
   },
   "file_extension": ".py",
   "mimetype": "text/x-python",
   "name": "python",
   "nbconvert_exporter": "python",
   "pygments_lexer": "ipython3",
   "version": "3.7.4"
  }
 },
 "nbformat": 4,
 "nbformat_minor": 2
}
