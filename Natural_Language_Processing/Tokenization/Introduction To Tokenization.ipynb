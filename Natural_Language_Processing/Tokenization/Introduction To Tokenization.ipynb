{
 "cells": [
  {
   "cell_type": "markdown",
   "metadata": {},
   "source": [
    "# Introduction to Tokenization"
   ]
  },
  {
   "cell_type": "code",
   "execution_count": 1,
   "metadata": {},
   "outputs": [],
   "source": [
    "import nltk"
   ]
  },
  {
   "cell_type": "code",
   "execution_count": 2,
   "metadata": {},
   "outputs": [
    {
     "name": "stdout",
     "output_type": "stream",
     "text": [
      "showing info https://raw.githubusercontent.com/nltk/nltk_data/gh-pages/index.xml\n"
     ]
    },
    {
     "data": {
      "text/plain": [
       "True"
      ]
     },
     "execution_count": 2,
     "metadata": {},
     "output_type": "execute_result"
    }
   ],
   "source": [
    "nltk.download()"
   ]
  },
  {
   "cell_type": "code",
   "execution_count": 3,
   "metadata": {},
   "outputs": [],
   "source": [
    "paragraph = \"\"\"Kalam earned a degree in aeronautical engineering from the Madras Institute of Technology and in 1958 joined the Defence Research and Development Organisation (DRDO). He soon moved to the Indian Space Research Organisation, where he was project director of the SLV-III, India’s first indigenously designed and produced satellite launch vehicle. Rejoining DRDO in 1982, Kalam planned the program that produced a number of successful missiles, which helped earned him the nickname Missile Man.\"\"\""
   ]
  },
  {
   "cell_type": "markdown",
   "metadata": {},
   "source": [
    "# Tokenization of Sentences"
   ]
  },
  {
   "cell_type": "code",
   "execution_count": 6,
   "metadata": {},
   "outputs": [],
   "source": [
    "sentences = nltk.sent_tokenize(paragraph)"
   ]
  },
  {
   "cell_type": "markdown",
   "metadata": {},
   "source": [
    "# Tokenization of words"
   ]
  },
  {
   "cell_type": "code",
   "execution_count": 5,
   "metadata": {},
   "outputs": [],
   "source": [
    "words = nltk.word_tokenize(paragraph)"
   ]
  },
  {
   "cell_type": "code",
   "execution_count": 7,
   "metadata": {},
   "outputs": [
    {
     "name": "stdout",
     "output_type": "stream",
     "text": [
      "['Kalam earned a degree in aeronautical engineering from the Madras Institute of Technology and in 1958 joined the Defence Research and Development Organisation (DRDO).', 'He soon moved to the Indian Space Research Organisation, where he was project director of the SLV-III, India’s first indigenously designed and produced satellite launch vehicle.', 'Rejoining DRDO in 1982, Kalam planned the program that produced a number of successful missiles, which helped earned him the nickname Missile Man.']\n"
     ]
    }
   ],
   "source": [
    "print(sentences)"
   ]
  },
  {
   "cell_type": "code",
   "execution_count": 8,
   "metadata": {},
   "outputs": [
    {
     "name": "stdout",
     "output_type": "stream",
     "text": [
      "['Kalam', 'earned', 'a', 'degree', 'in', 'aeronautical', 'engineering', 'from', 'the', 'Madras', 'Institute', 'of', 'Technology', 'and', 'in', '1958', 'joined', 'the', 'Defence', 'Research', 'and', 'Development', 'Organisation', '(', 'DRDO', ')', '.', 'He', 'soon', 'moved', 'to', 'the', 'Indian', 'Space', 'Research', 'Organisation', ',', 'where', 'he', 'was', 'project', 'director', 'of', 'the', 'SLV-III', ',', 'India', '’', 's', 'first', 'indigenously', 'designed', 'and', 'produced', 'satellite', 'launch', 'vehicle', '.', 'Rejoining', 'DRDO', 'in', '1982', ',', 'Kalam', 'planned', 'the', 'program', 'that', 'produced', 'a', 'number', 'of', 'successful', 'missiles', ',', 'which', 'helped', 'earned', 'him', 'the', 'nickname', 'Missile', 'Man', '.']\n"
     ]
    }
   ],
   "source": [
    "print(words)"
   ]
  },
  {
   "cell_type": "code",
   "execution_count": null,
   "metadata": {},
   "outputs": [],
   "source": []
  }
 ],
 "metadata": {
  "kernelspec": {
   "display_name": "Python 3",
   "language": "python",
   "name": "python3"
  },
  "language_info": {
   "codemirror_mode": {
    "name": "ipython",
    "version": 3
   },
   "file_extension": ".py",
   "mimetype": "text/x-python",
   "name": "python",
   "nbconvert_exporter": "python",
   "pygments_lexer": "ipython3",
   "version": "3.7.4"
  }
 },
 "nbformat": 4,
 "nbformat_minor": 2
}
